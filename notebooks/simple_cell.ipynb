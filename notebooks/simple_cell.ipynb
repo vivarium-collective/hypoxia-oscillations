{
 "cells": [
  {
   "cell_type": "code",
   "execution_count": 1,
   "id": "74b29d79-1fce-4823-919e-793d79dd0adb",
   "metadata": {},
   "outputs": [],
   "source": [
    "import numpy as np\n",
    "from scipy.integrate import odeint\n",
    "import matplotlib.pyplot as plt\n",
    "from IPython.display import display\n",
    "from ipywidgets import interact, FloatSlider, IntSlider, Layout"
   ]
  },
  {
   "cell_type": "code",
   "execution_count": 2,
   "id": "7d60105f-4edb-4bba-98f8-22329c5fad6a",
   "metadata": {},
   "outputs": [],
   "source": [
    "def system_of_odes(\n",
    "    y, t, \n",
    "    k_HIF_production_basal=0.02, \n",
    "    k_HIF_production_max=0.9, \n",
    "    k_HIF_pos_feedback=1,\n",
    "    k_HIF_deg_basal=0.2, \n",
    "    k_HIF_deg_lactate=1, \n",
    "    k_lactate_production=0.01,\n",
    "    k_lactate_production_reg=1, \n",
    "    k_lactate_deg_basal=0.01,\n",
    "    k_GFP_production_constantFP_production=1, \n",
    "    k_GFP_production_constant=0.05,\n",
    "    k_GFP_deg=0.1, \n",
    "    k_MCT1=1E-3, \n",
    "    k_MCT4=1E-3, \n",
    "    o2_response_scaling=1.0,\n",
    "    kmax_o2_deg=1e-1, \n",
    "    k_min_o2_deg=1e-2, \n",
    "    conc_conversion_oxygen=1.0,\n",
    "    conc_conversion_lactate=1.0\n",
    "):\n",
    "    # Unpack variables\n",
    "    hif_in, lactate_in, gfp_in, oxygen_ex, lactate_ex = y\n",
    "    \n",
    "    # System equations\n",
    "    hif_production = (k_HIF_production_basal + \n",
    "                      k_HIF_production_max * hif_in ** 2 / \n",
    "                      (k_HIF_pos_feedback + hif_in ** 2))\n",
    "    hif_degradation = (k_HIF_deg_basal * hif_in * oxygen_ex + \n",
    "                       k_HIF_deg_lactate * hif_in * lactate_in)\n",
    "    dHIF = hif_production - hif_degradation\n",
    "    \n",
    "    lactate_production = (k_lactate_production * hif_in ** 2 / \n",
    "                          (k_lactate_production_reg + hif_in ** 2))\n",
    "    lactate_degradation = k_lactate_deg_basal * lactate_in\n",
    "    lactate_transport = k_MCT1 * lactate_ex - k_MCT4 * lactate_in\n",
    "    dLactate = lactate_production - lactate_degradation + lactate_transport\n",
    "    \n",
    "    gfp_production = (k_GFP_production_constantFP_production * hif_in ** 3 / \n",
    "                      (k_GFP_production_constant + hif_in ** 3))\n",
    "    gfp_degradation = k_GFP_deg * gfp_in\n",
    "    dGFP = gfp_production - gfp_degradation\n",
    "    \n",
    "    dO2_ext = 0\n",
    "    if oxygen_ex > 0:\n",
    "        dO2_ext = -o2_response_scaling * (k_min_o2_deg + kmax_o2_deg / (hif_in + 1))\n",
    "    \n",
    "    # Convert from concentration to counts (or vice versa)\n",
    "    dO2_ext *= conc_conversion_oxygen\n",
    "    dLactate_ext = -lactate_transport * conc_conversion_lactate\n",
    "    \n",
    "    return [\n",
    "        dHIF, \n",
    "        dLactate, \n",
    "        dGFP, \n",
    "        0,\n",
    "        0\n",
    "        # dO2_ext, \n",
    "        # dLactate_ext\n",
    "    ]"
   ]
  },
  {
   "cell_type": "code",
   "execution_count": 47,
   "id": "bd462252-5c39-4c46-9207-f427fd2993a2",
   "metadata": {},
   "outputs": [],
   "source": [
    "def plot_ode_solution(t, solution):\n",
    "    # Unpack the solution\n",
    "    hif_in, lactate_in, gfp_in, oxygen_ex, lactate_ex = solution.T  # Transpose to unpack by columns\n",
    "\n",
    "    # Create the plots\n",
    "    plt.figure(figsize=(5, 5))\n",
    "\n",
    "    # Plot HIF\n",
    "    plt.subplot(3, 1, 1)\n",
    "    plt.plot(t, hif_in, label='HIF')\n",
    "    plt.xlabel('Time')\n",
    "    plt.ylabel('HIF conc')\n",
    "    # plt.title('HIF Over Time')\n",
    "    # plt.legend()\n",
    "\n",
    "    # Plot internal Lactate\n",
    "    plt.subplot(3, 1, 2)\n",
    "    plt.plot(t, lactate_in, label='Lactate (internal)')\n",
    "    plt.xlabel('Time')\n",
    "    plt.ylabel('Lactate conc')\n",
    "    # plt.title('Internal Lactate Over Time')\n",
    "    # plt.legend()\n",
    "\n",
    "    # Plot GFP\n",
    "    plt.subplot(3, 1, 3)\n",
    "    plt.plot(t, gfp_in, label='GFP')\n",
    "    plt.xlabel('Time')\n",
    "    plt.ylabel('GFP conc')\n",
    "    # plt.title('GFP Over Time')\n",
    "    # plt.legend()\n",
    "\n",
    "    # # Plot external Oxygen\n",
    "    # plt.subplot(3, 2, 4)\n",
    "    # plt.plot(t, oxygen_ex, label='Oxygen (external)')\n",
    "    # plt.xlabel('Time')\n",
    "    # plt.ylabel('Oxygen concentration (external)')\n",
    "    # plt.title('External Oxygen Over Time')\n",
    "    # plt.legend()\n",
    "\n",
    "    # # Plot external Lactate\n",
    "    # plt.subplot(3, 2, 5)\n",
    "    # plt.plot(t, lactate_ex, label='Lactate (external)')\n",
    "    # plt.xlabel('Time')\n",
    "    # plt.ylabel('Lactate concentration (external)')\n",
    "    # plt.title('External Lactate Over Time')\n",
    "    # plt.legend()\n",
    "\n",
    "    plt.tight_layout()  # Adjust the layout to make room for all the plots\n",
    "    plt.show()"
   ]
  },
  {
   "cell_type": "code",
   "execution_count": 48,
   "id": "801378d0-1c8d-407f-b18e-49b9ab452817",
   "metadata": {},
   "outputs": [],
   "source": [
    "# initial conditions\n",
    "y0 = [0.1, 0.001, 0.0, 1.1, 0.1]  # Initial conditions for HIF, lactate_in, GFP, oxygen_ex, lactate_ex\n",
    "\n",
    "# time vector\n",
    "total_time = 1000\n",
    "time_points = 1001\n",
    "t = np.linspace(0, total_time, time_points)\n",
    "\n",
    "# Conc conversion factors\n",
    "conc_conversion_oxygen = 1.0\n",
    "conc_conversion_lactate = 1.0\n",
    "\n",
    "# Solve the ODEs\n",
    "solution = odeint(system_of_odes, y0, t, args=())"
   ]
  },
  {
   "cell_type": "code",
   "execution_count": 49,
   "id": "ff8b6463-3e26-42ca-b447-8143cb5dcf9a",
   "metadata": {},
   "outputs": [
    {
     "data": {
      "image/png": "[encoded data removed]",
      "text/plain": [
       "<Figure size 500x500 with 3 Axes>"
      ]
     },
     "metadata": {},
     "output_type": "display_data"
    }
   ],
   "source": [
    "plot_ode_solution(t, solution)"
   ]
  },
  {
   "cell_type": "code",
   "execution_count": 50,
   "id": "baafa841-99ed-4e93-a20e-8330f8e694e9",
   "metadata": {},
   "outputs": [],
   "source": [
    "def plot_ode_solution_with_parameters(\n",
    "    k_HIF_production_basal, \n",
    "    k_HIF_production_max, \n",
    "    k_HIF_pos_feedback,\n",
    "    k_HIF_deg_basal, \n",
    "    k_HIF_deg_lactate, \n",
    "    k_lactate_production,\n",
    "    k_lactate_production_reg, \n",
    "    k_lactate_deg_basal,\n",
    "    k_GFP_production_constantFP_production, \n",
    "    k_GFP_production_constant,\n",
    "    k_GFP_deg, \n",
    "    k_MCT1, \n",
    "    k_MCT4, \n",
    "    o2_response_scaling,\n",
    "    kmax_o2_deg, \n",
    "    k_min_o2_deg, \n",
    "    total_time=1000\n",
    "):\n",
    "    conc_conversion_oxygen = 1\n",
    "    conc_conversion_lactate = 1\n",
    "    \n",
    "    # Define the ODE system inside or make sure it's accessible\n",
    "    # Define initial conditions and time array based on total_time\n",
    "    y0 = [0.1, 0.001, 0.0, 1.1, 0.1]  # Example initial conditions\n",
    "    t = np.linspace(0, total_time, int(total_time))  # Time array\n",
    "\n",
    "    # Solve the ODE system with the current parameters\n",
    "    solution = odeint(system_of_odes, y0, t, args=(\n",
    "        k_HIF_production_basal, k_HIF_production_max, k_HIF_pos_feedback,\n",
    "        k_HIF_deg_basal, k_HIF_deg_lactate, k_lactate_production,\n",
    "        k_lactate_production_reg, k_lactate_deg_basal,\n",
    "        k_GFP_production_constantFP_production, k_GFP_production_constant,\n",
    "        k_GFP_deg, k_MCT1, k_MCT4, o2_response_scaling,\n",
    "        kmax_o2_deg, k_min_o2_deg, conc_conversion_oxygen,\n",
    "        conc_conversion_lactate\n",
    "    ))\n",
    "    \n",
    "    # Plot the results (assuming the plot_ode_solution function takes the solution and plots it)\n",
    "    # plt.figure(figsize=(8, 4))\n",
    "    plot_ode_solution(t, solution)\n",
    "    # plt.show()\n"
   ]
  },
  {
   "cell_type": "code",
   "execution_count": 51,
   "id": "3913b7e2-5a99-43ce-88cf-02d79f683ea9",
   "metadata": {},
   "outputs": [],
   "source": [
    "# Custom layout for the sliders\n",
    "slider_layout = Layout(width='500px', height='20px')\n",
    "label_layout = Layout(width='250px')\n",
    "\n",
    "# Function to create a FloatSlider with custom layout\n",
    "def custom_float_slider(description, min, max, step, value):\n",
    "    return FloatSlider(\n",
    "        value=value,\n",
    "        min=min,\n",
    "        max=max,\n",
    "        step=step,\n",
    "        description=description,\n",
    "        style={'description_width': 'initial'},  # This ensures the description text is not cut off\n",
    "        layout=slider_layout,\n",
    "        description_tooltip=description  # Adds a tooltip showing the full description\n",
    "    )"
   ]
  },
  {
   "cell_type": "code",
   "execution_count": 55,
   "id": "85d94d7c-874c-42ab-99ca-8f12d35bb65d",
   "metadata": {},
   "outputs": [
    {
     "name": "stderr",
     "output_type": "stream",
     "text": [
      "/var/folders/vy/vr0_ytms6m95qrnk7xnh0bth0000gq/T/ipykernel_67958/3468196994.py:7: DeprecationWarning: the description_tooltip argument is deprecated, use tooltip instead\n",
      "  return FloatSlider(\n"
     ]
    },
    {
     "data": {
      "application/vnd.jupyter.widget-view+json": {
       "model_id": "599cef8d14c844f6a4fe45347455df5c",
       "version_major": 2,
       "version_minor": 0
      },
      "text/plain": [
       "interactive(children=(FloatSlider(value=0.02, description='k_HIF_prod_basal', layout=Layout(height='20px', wid…"
      ]
     },
     "metadata": {},
     "output_type": "display_data"
    },
    {
     "data": {
      "text/plain": [
       "<function __main__.plot_ode_solution_with_parameters(k_HIF_production_basal, k_HIF_production_max, k_HIF_pos_feedback, k_HIF_deg_basal, k_HIF_deg_lactate, k_lactate_production, k_lactate_production_reg, k_lactate_deg_basal, k_GFP_production_constantFP_production, k_GFP_production_constant, k_GFP_deg, k_MCT1, k_MCT4, o2_response_scaling, kmax_o2_deg, k_min_o2_deg, total_time=1000)>"
      ]
     },
     "execution_count": 55,
     "metadata": {},
     "output_type": "execute_result"
    }
   ],
   "source": [
    "interact(plot_ode_solution_with_parameters,\n",
    "         k_HIF_production_basal=custom_float_slider('k_HIF_prod_basal', 0.0, 0.1, 0.001, 0.02),\n",
    "         k_HIF_production_max=custom_float_slider('k_HIF_production_max', 0.0, 2.0, 0.01, 0.9),\n",
    "         k_HIF_pos_feedback=custom_float_slider('k_HIF_pos_feedback', 0.0, 10.0, 0.1, 1),\n",
    "         k_HIF_deg_basal=custom_float_slider('k_HIF_deg_basal', 0.0, 1.0, 0.01, 0.2),\n",
    "         k_HIF_deg_lactate=custom_float_slider('k_HIF_deg_lactate', 0.0, 2.0, 0.01, 1),\n",
    "         k_lactate_production=custom_float_slider('k_lactate_production', 0.0, 0.1, 0.001, 0.01),\n",
    "         k_lactate_production_reg=custom_float_slider('k_lactate_production_reg', 0.0, 2.0, 0.1, 1),\n",
    "         k_lactate_deg_basal=custom_float_slider('k_lactate_deg_basal', 0.0, 0.1, 0.001, 0.01),\n",
    "         k_GFP_production_constantFP_production=custom_float_slider('k_GFP_production_constantFP_production', 0.0, 2.0, 0.01, 1),\n",
    "         k_GFP_production_constant=custom_float_slider('k_GFP_production_constant', 0.0, 0.1, 0.001, 0.05),\n",
    "         k_GFP_deg=custom_float_slider('k_GFP_deg', 0.0, 0.5, 0.01, 0.1),\n",
    "         k_MCT1=custom_float_slider('k_MCT1', 0.0, 0.01, 1E-4, 1E-3),\n",
    "         k_MCT4=custom_float_slider('k_MCT4', 0.0, 0.01, 1E-4, 1E-3),\n",
    "         o2_response_scaling=custom_float_slider('o2_response_scaling', 0.0, 2.0, 0.1, 1.0),\n",
    "         kmax_o2_deg=custom_float_slider('kmax_o2_deg', 0.0, 0.5, 0.01, 1e-1),\n",
    "         k_min_o2_deg=custom_float_slider('k_min_o2_deg', 0.0, 0.1, 0.001, 1e-2),\n",
    "         total_time=custom_float_slider('Total Time', 10, 2000, 10, 1000)\n",
    "        )"
   ]
  },
  {
   "cell_type": "code",
   "execution_count": null,
   "id": "02151309-1148-497f-aef1-39e09cf8d6b1",
   "metadata": {},
   "outputs": [],
   "source": []
  }
 ],
 "metadata": {
  "kernelspec": {
   "display_name": "Python (venv)",
   "language": "python",
   "name": "venv_kernel"
  },
  "language_info": {
   "codemirror_mode": {
    "name": "ipython",
    "version": 3
   },
   "file_extension": ".py",
   "mimetype": "text/x-python",
   "name": "python",
   "nbconvert_exporter": "python",
   "pygments_lexer": "ipython3",
   "version": "3.9.6"
  }
 },
 "nbformat": 4,
 "nbformat_minor": 5
}
